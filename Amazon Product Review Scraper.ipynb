{
 "cells": [
  {
   "cell_type": "code",
   "execution_count": 2,
   "metadata": {},
   "outputs": [
    {
     "name": "stdout",
     "output_type": "stream",
     "text": [
      "Enter URL: https://www.amazon.com/Oculus-Rift-Virtual-Reality-Headset-pc/product-reviews/B00VF0IXEY/ref=cm_cr_dp_d_show_all_btm?ie=UTF8&reviewerType=all_reviews&pageNumber=1\n",
      "Enter Start Page: 1\n",
      "Enter End Page: 10\n",
      "Enter upper limit of time range (Example: Entering the value 5 would mean the program will wait anywhere from 0 to 5 seconds before scraping a page. If you don't want the program to wait, enter 0): 0\n",
      "Type file name: oculusrift\n",
      "\n",
      "Sleeping for 0 seconds.\n",
      "Scraping page 1.\n",
      "\n",
      "Sleeping for 0 seconds.\n",
      "Scraping page 2.\n",
      "\n",
      "Sleeping for 0 seconds.\n",
      "Scraping page 3.\n",
      "\n",
      "Sleeping for 0 seconds.\n",
      "Scraping page 4.\n",
      "\n",
      "Sleeping for 0 seconds.\n",
      "Scraping page 5.\n",
      "\n",
      "Sleeping for 0 seconds.\n",
      "Scraping page 6.\n",
      "\n",
      "Sleeping for 0 seconds.\n",
      "Scraping page 7.\n",
      "\n",
      "Sleeping for 0 seconds.\n",
      "Scraping page 8.\n",
      "\n",
      "Sleeping for 0 seconds.\n",
      "Scraping page 9.\n",
      "\n",
      "Sleeping for 0 seconds.\n",
      "Scraping page 10.\n",
      "\n",
      "Writing to file.\n",
      "\n"
     ]
    }
   ],
   "source": [
    "from amazon_review_scraper import amazon_review_scraper #import scraper API to pull reviews from online\n",
    "\n",
    "#prompt the user for relevant information of a certain product\n",
    "url = input(\"Enter the URL of the first page of the all reviews section with \"&pageNumber=1\" added to end of the URL (Example: https://www.amazon.com/Oculus-Rift-Virtual-Reality-Headset-pc/product-reviews/B00VF0IXEY/ref=cm_cr_dp_d_show_all_btm?ie=UTF8&reviewerType=all_reviews&pageNumber=1): \")\n",
    "start_page = input(\"Enter Start Page: \")\n",
    "end_page = input(\"Enter End Page: \")\n",
    "time_upper_limit = input(\"Enter upper limit of time range (Example: Entering the value 5 would mean the program will wait anywhere from 0 to 5 seconds before scraping a page. If you don't want the program to wait, enter 0): \")\n",
    "file_name = input(\"Type file name: \")\n",
    "\n",
    "#call on API to use user provided data for pull request\n",
    "scraper = amazon_review_scraper.amazon_review_scraper(url, start_page, end_page, time_upper_limit)\n",
    "scraper.scrape()\n",
    "scraper.write_csv(file_name)#write reviews to a csv file"
   ]
  }
 ],
 "metadata": {
  "kernelspec": {
   "display_name": "Python 3",
   "language": "python",
   "name": "python3"
  },
  "language_info": {
   "codemirror_mode": {
    "name": "ipython",
    "version": 3
   },
   "file_extension": ".py",
   "mimetype": "text/x-python",
   "name": "python",
   "nbconvert_exporter": "python",
   "pygments_lexer": "ipython3",
   "version": "3.6.5"
  }
 },
 "nbformat": 4,
 "nbformat_minor": 2
}
